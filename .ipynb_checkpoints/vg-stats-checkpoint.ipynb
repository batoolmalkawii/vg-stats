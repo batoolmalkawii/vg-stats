{
 "cells": [
  {
   "cell_type": "markdown",
   "metadata": {},
   "source": [
    "# Video Game Sales\n",
    "##### Dataset: `vgsales`.\n",
    "##### Author: Batool Malkawi.\n",
    "##### Date: 14/12/2020"
   ]
  },
  {
   "cell_type": "markdown",
   "metadata": {},
   "source": [
    "___\n",
    "## import packages\n",
    "___"
   ]
  },
  {
   "cell_type": "code",
   "execution_count": 1,
   "metadata": {},
   "outputs": [],
   "source": [
    "import pandas as pd\n",
    "import numpy as np"
   ]
  },
  {
   "cell_type": "code",
   "execution_count": 2,
   "metadata": {},
   "outputs": [],
   "source": [
    "df = pd.read_csv('./vgsales.csv')"
   ]
  },
  {
   "cell_type": "markdown",
   "metadata": {},
   "source": [
    "___\n",
    "## 1. Which company is the most common video game publisher?\n",
    "___"
   ]
  },
  {
   "cell_type": "code",
   "execution_count": 3,
   "metadata": {},
   "outputs": [
    {
     "name": "stdout",
     "output_type": "stream",
     "text": [
      "Electronic Arts\n"
     ]
    }
   ],
   "source": [
    "publishers = df['Publisher']\n",
    "most_common_publisher = publishers.mode()\n",
    "print (most_common_publisher[0])"
   ]
  },
  {
   "cell_type": "markdown",
   "metadata": {},
   "source": [
    "___\n",
    "## 2. What’s the most common platform?\n",
    "___"
   ]
  },
  {
   "cell_type": "code",
   "execution_count": 4,
   "metadata": {},
   "outputs": [
    {
     "name": "stdout",
     "output_type": "stream",
     "text": [
      "DS\n"
     ]
    }
   ],
   "source": [
    "platforms = df['Platform']\n",
    "most_common_platform = platforms.mode()\n",
    "print (most_common_platform[0])"
   ]
  },
  {
   "cell_type": "markdown",
   "metadata": {},
   "source": [
    "___\n",
    "## 3. What about the most common genre?\n",
    "___"
   ]
  },
  {
   "cell_type": "code",
   "execution_count": 5,
   "metadata": {},
   "outputs": [
    {
     "name": "stdout",
     "output_type": "stream",
     "text": [
      "Action\n"
     ]
    }
   ],
   "source": [
    "genres = df['Genre']\n",
    "most_common_genre = genres.mode()\n",
    "print (most_common_genre[0])"
   ]
  },
  {
   "cell_type": "markdown",
   "metadata": {},
   "source": [
    "___\n",
    "## 4. What are the top 20 highest grossing games?\n",
    "___"
   ]
  },
  {
   "cell_type": "code",
   "execution_count": 6,
   "metadata": {},
   "outputs": [
    {
     "name": "stdout",
     "output_type": "stream",
     "text": [
      "                                            Name  Global_Sales\n",
      "0                                     Wii Sports         82.74\n",
      "1                              Super Mario Bros.         40.24\n",
      "2                                 Mario Kart Wii         35.82\n",
      "3                              Wii Sports Resort         33.00\n",
      "4                       Pokemon Red/Pokemon Blue         31.37\n",
      "5                                         Tetris         30.26\n",
      "6                          New Super Mario Bros.         30.01\n",
      "7                                       Wii Play         29.02\n",
      "8                      New Super Mario Bros. Wii         28.62\n",
      "9                                      Duck Hunt         28.31\n",
      "10                                    Nintendogs         24.76\n",
      "11                                 Mario Kart DS         23.42\n",
      "12                   Pokemon Gold/Pokemon Silver         23.10\n",
      "13                                       Wii Fit         22.72\n",
      "14                                  Wii Fit Plus         22.00\n",
      "15                            Kinect Adventures!         21.82\n",
      "16                            Grand Theft Auto V         21.40\n",
      "17                 Grand Theft Auto: San Andreas         20.81\n",
      "18                             Super Mario World         20.61\n",
      "19  Brain Age: Train Your Brain in Minutes a Day         20.22\n"
     ]
    }
   ],
   "source": [
    "highest_grossing_games = df[['Name','Global_Sales']]\n",
    "sorted_highest_grossing_games = highest_grossing_games.sort_values('Global_Sales', ascending=False)\n",
    "top_20_highest_grossing_games = sorted_highest_grossing_games.head(20)\n",
    "print (top_20_highest_grossing_games)"
   ]
  },
  {
   "cell_type": "markdown",
   "metadata": {},
   "source": [
    "___\n",
    "## 5. For North American video game sales, what’s the median?\n",
    "___"
   ]
  },
  {
   "cell_type": "code",
   "execution_count": 7,
   "metadata": {},
   "outputs": [
    {
     "name": "stdout",
     "output_type": "stream",
     "text": [
      "North America Median:  0.08\n",
      "***************************************\n",
      "10 games surrounding the medians sales: \n",
      "***************************************\n",
      "Spider-Man: Edge of Time\n",
      "Turok: Evolution\n",
      "Deadpool\n",
      "GT Advance 2: Rally Racing\n",
      "A Witch's Tale\n",
      "Nickelodeon Dance\n",
      "Phantasy Star Collection\n",
      "LEGO Knights' Kingdom\n",
      "Family Game Night 4: The Game Show\n",
      "NBA Jam 2002\n"
     ]
    }
   ],
   "source": [
    "na_video_game_sales = df['NA_Sales']\n",
    "na_median = na_video_game_sales.median()\n",
    "print (\"North America Median: \", na_median)\n",
    "\n",
    "na_country_median = df[df['NA_Sales'] == na_median]\n",
    "na_games_surrounding_median = len(na_country_median) \n",
    "\n",
    "middle_point = round (na_games_surrounding_median/2) \n",
    "ten_games_surrounding_median= na_country_median[(middle_point - 6):(middle_point + 4)]\n",
    "\n",
    "print (\"***************************************\")\n",
    "print(\"10 games surrounding the medians sales: \")\n",
    "print (\"***************************************\")\n",
    "for game in ten_games_surrounding_median['Name']:\n",
    "    print(game)\n",
    "\n"
   ]
  },
  {
   "cell_type": "markdown",
   "metadata": {},
   "source": [
    "___\n",
    "## 6. For the top-selling game of all time, how many standard deviations above/below the mean are its sales for North America?\n",
    "___"
   ]
  },
  {
   "cell_type": "markdown",
   "metadata": {},
   "source": [
    "*to be answered*"
   ]
  },
  {
   "cell_type": "markdown",
   "metadata": {},
   "source": [
    "___\n",
    "## 7. The Nintendo Wii seems to have outdone itself with games. How does its average number of sales compare with all of the other platforms?\n",
    "___"
   ]
  },
  {
   "cell_type": "code",
   "execution_count": 8,
   "metadata": {},
   "outputs": [
    {
     "name": "stdout",
     "output_type": "stream",
     "text": [
      "Mean of other platforms:  0.5233896418516336\n",
      "Mean of Wii platform:  0.6994037735849057\n",
      "Difference:  0.17601413173327207\n"
     ]
    }
   ],
   "source": [
    "other_platforms_mean = df[df['Platform'] !='Wii'].Global_Sales.mean()\n",
    "wii_platform_mean = df[df['Platform'] =='Wii'].Global_Sales.mean()\n",
    "diff = abs(wii_platform_mean - other_platforms_mean)\n",
    "print(\"Mean of other platforms: \", other_platforms_mean)\n",
    "print(\"Mean of Wii platform: \", wii_platform_mean)\n",
    "print (\"Difference: \", diff)"
   ]
  },
  {
   "cell_type": "markdown",
   "metadata": {},
   "source": [
    "___\n",
    "## 8. Top 20 Puzzle games?\n",
    "___\n"
   ]
  },
  {
   "cell_type": "code",
   "execution_count": 9,
   "metadata": {},
   "outputs": [
    {
     "data": {
      "text/html": [
       "<div>\n",
       "<style scoped>\n",
       "    .dataframe tbody tr th:only-of-type {\n",
       "        vertical-align: middle;\n",
       "    }\n",
       "\n",
       "    .dataframe tbody tr th {\n",
       "        vertical-align: top;\n",
       "    }\n",
       "\n",
       "    .dataframe thead th {\n",
       "        text-align: right;\n",
       "    }\n",
       "</style>\n",
       "<table border=\"1\" class=\"dataframe\">\n",
       "  <thead>\n",
       "    <tr style=\"text-align: right;\">\n",
       "      <th></th>\n",
       "      <th>Rank</th>\n",
       "      <th>Name</th>\n",
       "      <th>Platform</th>\n",
       "      <th>Year</th>\n",
       "      <th>Genre</th>\n",
       "      <th>Publisher</th>\n",
       "      <th>NA_Sales</th>\n",
       "      <th>EU_Sales</th>\n",
       "      <th>JP_Sales</th>\n",
       "      <th>Other_Sales</th>\n",
       "      <th>Global_Sales</th>\n",
       "    </tr>\n",
       "  </thead>\n",
       "  <tbody>\n",
       "    <tr>\n",
       "      <th>5</th>\n",
       "      <td>6</td>\n",
       "      <td>Tetris</td>\n",
       "      <td>GB</td>\n",
       "      <td>1989.0</td>\n",
       "      <td>Puzzle</td>\n",
       "      <td>Nintendo</td>\n",
       "      <td>23.20</td>\n",
       "      <td>2.26</td>\n",
       "      <td>4.22</td>\n",
       "      <td>0.58</td>\n",
       "      <td>30.26</td>\n",
       "    </tr>\n",
       "    <tr>\n",
       "      <th>27</th>\n",
       "      <td>28</td>\n",
       "      <td>Brain Age 2: More Training in Minutes a Day</td>\n",
       "      <td>DS</td>\n",
       "      <td>2005.0</td>\n",
       "      <td>Puzzle</td>\n",
       "      <td>Nintendo</td>\n",
       "      <td>3.44</td>\n",
       "      <td>5.36</td>\n",
       "      <td>5.32</td>\n",
       "      <td>1.18</td>\n",
       "      <td>15.30</td>\n",
       "    </tr>\n",
       "    <tr>\n",
       "      <th>89</th>\n",
       "      <td>90</td>\n",
       "      <td>Pac-Man</td>\n",
       "      <td>2600</td>\n",
       "      <td>1982.0</td>\n",
       "      <td>Puzzle</td>\n",
       "      <td>Atari</td>\n",
       "      <td>7.28</td>\n",
       "      <td>0.45</td>\n",
       "      <td>0.00</td>\n",
       "      <td>0.08</td>\n",
       "      <td>7.81</td>\n",
       "    </tr>\n",
       "    <tr>\n",
       "      <th>155</th>\n",
       "      <td>156</td>\n",
       "      <td>Tetris</td>\n",
       "      <td>NES</td>\n",
       "      <td>1988.0</td>\n",
       "      <td>Puzzle</td>\n",
       "      <td>Nintendo</td>\n",
       "      <td>2.97</td>\n",
       "      <td>0.69</td>\n",
       "      <td>1.81</td>\n",
       "      <td>0.11</td>\n",
       "      <td>5.58</td>\n",
       "    </tr>\n",
       "    <tr>\n",
       "      <th>170</th>\n",
       "      <td>171</td>\n",
       "      <td>Dr. Mario</td>\n",
       "      <td>GB</td>\n",
       "      <td>1989.0</td>\n",
       "      <td>Puzzle</td>\n",
       "      <td>Nintendo</td>\n",
       "      <td>2.18</td>\n",
       "      <td>0.96</td>\n",
       "      <td>2.00</td>\n",
       "      <td>0.20</td>\n",
       "      <td>5.34</td>\n",
       "    </tr>\n",
       "    <tr>\n",
       "      <th>177</th>\n",
       "      <td>178</td>\n",
       "      <td>Professor Layton and the Curious Village</td>\n",
       "      <td>DS</td>\n",
       "      <td>2007.0</td>\n",
       "      <td>Puzzle</td>\n",
       "      <td>Nintendo</td>\n",
       "      <td>1.22</td>\n",
       "      <td>2.48</td>\n",
       "      <td>1.03</td>\n",
       "      <td>0.52</td>\n",
       "      <td>5.26</td>\n",
       "    </tr>\n",
       "    <tr>\n",
       "      <th>215</th>\n",
       "      <td>216</td>\n",
       "      <td>Dr. Mario</td>\n",
       "      <td>NES</td>\n",
       "      <td>1990.0</td>\n",
       "      <td>Puzzle</td>\n",
       "      <td>Nintendo</td>\n",
       "      <td>2.62</td>\n",
       "      <td>0.60</td>\n",
       "      <td>1.52</td>\n",
       "      <td>0.10</td>\n",
       "      <td>4.85</td>\n",
       "    </tr>\n",
       "    <tr>\n",
       "      <th>300</th>\n",
       "      <td>301</td>\n",
       "      <td>Professor Layton and the Diabolical Box</td>\n",
       "      <td>DS</td>\n",
       "      <td>2007.0</td>\n",
       "      <td>Puzzle</td>\n",
       "      <td>Nintendo</td>\n",
       "      <td>0.92</td>\n",
       "      <td>1.78</td>\n",
       "      <td>0.92</td>\n",
       "      <td>0.37</td>\n",
       "      <td>4.00</td>\n",
       "    </tr>\n",
       "    <tr>\n",
       "      <th>399</th>\n",
       "      <td>400</td>\n",
       "      <td>Professor Layton and the Unwound Future</td>\n",
       "      <td>DS</td>\n",
       "      <td>2008.0</td>\n",
       "      <td>Puzzle</td>\n",
       "      <td>Nintendo</td>\n",
       "      <td>0.65</td>\n",
       "      <td>1.61</td>\n",
       "      <td>0.82</td>\n",
       "      <td>0.28</td>\n",
       "      <td>3.36</td>\n",
       "    </tr>\n",
       "    <tr>\n",
       "      <th>488</th>\n",
       "      <td>489</td>\n",
       "      <td>Pac-Man Collection</td>\n",
       "      <td>GBA</td>\n",
       "      <td>2001.0</td>\n",
       "      <td>Puzzle</td>\n",
       "      <td>Atari</td>\n",
       "      <td>2.07</td>\n",
       "      <td>0.77</td>\n",
       "      <td>0.05</td>\n",
       "      <td>0.05</td>\n",
       "      <td>2.94</td>\n",
       "    </tr>\n",
       "    <tr>\n",
       "      <th>490</th>\n",
       "      <td>491</td>\n",
       "      <td>WarioWare: Smooth Moves</td>\n",
       "      <td>Wii</td>\n",
       "      <td>2006.0</td>\n",
       "      <td>Puzzle</td>\n",
       "      <td>Nintendo</td>\n",
       "      <td>0.87</td>\n",
       "      <td>1.06</td>\n",
       "      <td>0.73</td>\n",
       "      <td>0.26</td>\n",
       "      <td>2.92</td>\n",
       "    </tr>\n",
       "    <tr>\n",
       "      <th>535</th>\n",
       "      <td>536</td>\n",
       "      <td>Professor Layton and the Last Specter</td>\n",
       "      <td>DS</td>\n",
       "      <td>2009.0</td>\n",
       "      <td>Puzzle</td>\n",
       "      <td>Nintendo</td>\n",
       "      <td>0.30</td>\n",
       "      <td>1.47</td>\n",
       "      <td>0.68</td>\n",
       "      <td>0.34</td>\n",
       "      <td>2.79</td>\n",
       "    </tr>\n",
       "    <tr>\n",
       "      <th>558</th>\n",
       "      <td>559</td>\n",
       "      <td>Mario vs. Donkey Kong: Mini-Land Mayhem!</td>\n",
       "      <td>DS</td>\n",
       "      <td>2010.0</td>\n",
       "      <td>Puzzle</td>\n",
       "      <td>Nintendo</td>\n",
       "      <td>1.63</td>\n",
       "      <td>0.52</td>\n",
       "      <td>0.35</td>\n",
       "      <td>0.18</td>\n",
       "      <td>2.69</td>\n",
       "    </tr>\n",
       "    <tr>\n",
       "      <th>646</th>\n",
       "      <td>647</td>\n",
       "      <td>Tetris Plus</td>\n",
       "      <td>PS</td>\n",
       "      <td>1996.0</td>\n",
       "      <td>Puzzle</td>\n",
       "      <td>JVC</td>\n",
       "      <td>2.10</td>\n",
       "      <td>0.24</td>\n",
       "      <td>0.00</td>\n",
       "      <td>0.07</td>\n",
       "      <td>2.40</td>\n",
       "    </tr>\n",
       "    <tr>\n",
       "      <th>686</th>\n",
       "      <td>688</td>\n",
       "      <td>WarioWare Touched!</td>\n",
       "      <td>DS</td>\n",
       "      <td>2004.0</td>\n",
       "      <td>Puzzle</td>\n",
       "      <td>Nintendo</td>\n",
       "      <td>0.52</td>\n",
       "      <td>0.45</td>\n",
       "      <td>1.21</td>\n",
       "      <td>0.13</td>\n",
       "      <td>2.31</td>\n",
       "    </tr>\n",
       "    <tr>\n",
       "      <th>727</th>\n",
       "      <td>729</td>\n",
       "      <td>Scribblenauts</td>\n",
       "      <td>DS</td>\n",
       "      <td>2009.0</td>\n",
       "      <td>Puzzle</td>\n",
       "      <td>Warner Bros. Interactive Entertainment</td>\n",
       "      <td>1.71</td>\n",
       "      <td>0.32</td>\n",
       "      <td>0.02</td>\n",
       "      <td>0.18</td>\n",
       "      <td>2.22</td>\n",
       "    </tr>\n",
       "    <tr>\n",
       "      <th>739</th>\n",
       "      <td>741</td>\n",
       "      <td>High School Musical: Makin' the Cut!</td>\n",
       "      <td>DS</td>\n",
       "      <td>2007.0</td>\n",
       "      <td>Puzzle</td>\n",
       "      <td>Disney Interactive Studios</td>\n",
       "      <td>1.06</td>\n",
       "      <td>0.91</td>\n",
       "      <td>0.00</td>\n",
       "      <td>0.23</td>\n",
       "      <td>2.20</td>\n",
       "    </tr>\n",
       "    <tr>\n",
       "      <th>768</th>\n",
       "      <td>770</td>\n",
       "      <td>Tetris DS</td>\n",
       "      <td>DS</td>\n",
       "      <td>2006.0</td>\n",
       "      <td>Puzzle</td>\n",
       "      <td>Nintendo</td>\n",
       "      <td>0.64</td>\n",
       "      <td>0.07</td>\n",
       "      <td>1.35</td>\n",
       "      <td>0.08</td>\n",
       "      <td>2.13</td>\n",
       "    </tr>\n",
       "    <tr>\n",
       "      <th>800</th>\n",
       "      <td>802</td>\n",
       "      <td>Tetris Worlds</td>\n",
       "      <td>PS2</td>\n",
       "      <td>2002.0</td>\n",
       "      <td>Puzzle</td>\n",
       "      <td>THQ</td>\n",
       "      <td>1.11</td>\n",
       "      <td>0.71</td>\n",
       "      <td>0.00</td>\n",
       "      <td>0.27</td>\n",
       "      <td>2.08</td>\n",
       "    </tr>\n",
       "    <tr>\n",
       "      <th>844</th>\n",
       "      <td>846</td>\n",
       "      <td>TouchMaster</td>\n",
       "      <td>DS</td>\n",
       "      <td>2007.0</td>\n",
       "      <td>Puzzle</td>\n",
       "      <td>Midway Games</td>\n",
       "      <td>0.49</td>\n",
       "      <td>1.27</td>\n",
       "      <td>0.00</td>\n",
       "      <td>0.25</td>\n",
       "      <td>2.01</td>\n",
       "    </tr>\n",
       "  </tbody>\n",
       "</table>\n",
       "</div>"
      ],
      "text/plain": [
       "     Rank                                         Name Platform    Year  \\\n",
       "5       6                                       Tetris       GB  1989.0   \n",
       "27     28  Brain Age 2: More Training in Minutes a Day       DS  2005.0   \n",
       "89     90                                      Pac-Man     2600  1982.0   \n",
       "155   156                                       Tetris      NES  1988.0   \n",
       "170   171                                    Dr. Mario       GB  1989.0   \n",
       "177   178     Professor Layton and the Curious Village       DS  2007.0   \n",
       "215   216                                    Dr. Mario      NES  1990.0   \n",
       "300   301      Professor Layton and the Diabolical Box       DS  2007.0   \n",
       "399   400      Professor Layton and the Unwound Future       DS  2008.0   \n",
       "488   489                           Pac-Man Collection      GBA  2001.0   \n",
       "490   491                      WarioWare: Smooth Moves      Wii  2006.0   \n",
       "535   536        Professor Layton and the Last Specter       DS  2009.0   \n",
       "558   559     Mario vs. Donkey Kong: Mini-Land Mayhem!       DS  2010.0   \n",
       "646   647                                  Tetris Plus       PS  1996.0   \n",
       "686   688                           WarioWare Touched!       DS  2004.0   \n",
       "727   729                                Scribblenauts       DS  2009.0   \n",
       "739   741         High School Musical: Makin' the Cut!       DS  2007.0   \n",
       "768   770                                    Tetris DS       DS  2006.0   \n",
       "800   802                                Tetris Worlds      PS2  2002.0   \n",
       "844   846                                  TouchMaster       DS  2007.0   \n",
       "\n",
       "      Genre                               Publisher  NA_Sales  EU_Sales  \\\n",
       "5    Puzzle                                Nintendo     23.20      2.26   \n",
       "27   Puzzle                                Nintendo      3.44      5.36   \n",
       "89   Puzzle                                   Atari      7.28      0.45   \n",
       "155  Puzzle                                Nintendo      2.97      0.69   \n",
       "170  Puzzle                                Nintendo      2.18      0.96   \n",
       "177  Puzzle                                Nintendo      1.22      2.48   \n",
       "215  Puzzle                                Nintendo      2.62      0.60   \n",
       "300  Puzzle                                Nintendo      0.92      1.78   \n",
       "399  Puzzle                                Nintendo      0.65      1.61   \n",
       "488  Puzzle                                   Atari      2.07      0.77   \n",
       "490  Puzzle                                Nintendo      0.87      1.06   \n",
       "535  Puzzle                                Nintendo      0.30      1.47   \n",
       "558  Puzzle                                Nintendo      1.63      0.52   \n",
       "646  Puzzle                                     JVC      2.10      0.24   \n",
       "686  Puzzle                                Nintendo      0.52      0.45   \n",
       "727  Puzzle  Warner Bros. Interactive Entertainment      1.71      0.32   \n",
       "739  Puzzle              Disney Interactive Studios      1.06      0.91   \n",
       "768  Puzzle                                Nintendo      0.64      0.07   \n",
       "800  Puzzle                                     THQ      1.11      0.71   \n",
       "844  Puzzle                            Midway Games      0.49      1.27   \n",
       "\n",
       "     JP_Sales  Other_Sales  Global_Sales  \n",
       "5        4.22         0.58         30.26  \n",
       "27       5.32         1.18         15.30  \n",
       "89       0.00         0.08          7.81  \n",
       "155      1.81         0.11          5.58  \n",
       "170      2.00         0.20          5.34  \n",
       "177      1.03         0.52          5.26  \n",
       "215      1.52         0.10          4.85  \n",
       "300      0.92         0.37          4.00  \n",
       "399      0.82         0.28          3.36  \n",
       "488      0.05         0.05          2.94  \n",
       "490      0.73         0.26          2.92  \n",
       "535      0.68         0.34          2.79  \n",
       "558      0.35         0.18          2.69  \n",
       "646      0.00         0.07          2.40  \n",
       "686      1.21         0.13          2.31  \n",
       "727      0.02         0.18          2.22  \n",
       "739      0.00         0.23          2.20  \n",
       "768      1.35         0.08          2.13  \n",
       "800      0.00         0.27          2.08  \n",
       "844      0.00         0.25          2.01  "
      ]
     },
     "execution_count": 9,
     "metadata": {},
     "output_type": "execute_result"
    }
   ],
   "source": [
    "\n",
    "df[df['Genre'] == 'Puzzle'].sort_values('Global_Sales', ascending=False).head(20)"
   ]
  },
  {
   "cell_type": "markdown",
   "metadata": {},
   "source": [
    "___\n",
    "## 9. What is the most popular game in Japan?\n",
    "___"
   ]
  },
  {
   "cell_type": "code",
   "execution_count": 10,
   "metadata": {},
   "outputs": [
    {
     "name": "stdout",
     "output_type": "stream",
     "text": [
      "Most popular game in Japan is:  Pokemon Red/Pokemon Blue\n"
     ]
    }
   ],
   "source": [
    "most_popular_in_japan = df.sort_values('JP_Sales', ascending=False)\n",
    "print (\"Most popular game in Japan is: \", most_popular_in_japan.iloc[0]['Name'])"
   ]
  },
  {
   "cell_type": "markdown",
   "metadata": {},
   "source": [
    "___\n",
    "## 10. What is the least popular game in Japan?\n",
    "___"
   ]
  },
  {
   "cell_type": "code",
   "execution_count": 11,
   "metadata": {},
   "outputs": [
    {
     "ename": "NameError",
     "evalue": "name 'east_popular_in_japan' is not defined",
     "output_type": "error",
     "traceback": [
      "\u001b[0;31m--------------------------------------------\u001b[0m",
      "\u001b[0;31mNameError\u001b[0m  Traceback (most recent call last)",
      "\u001b[0;32m<ipython-input-11-6944a26a16df>\u001b[0m in \u001b[0;36m<module>\u001b[0;34m\u001b[0m\n\u001b[1;32m      1\u001b[0m \u001b[0mleast_popular_in_japan\u001b[0m \u001b[0;34m=\u001b[0m \u001b[0mdf\u001b[0m\u001b[0;34m.\u001b[0m\u001b[0msort_values\u001b[0m\u001b[0;34m(\u001b[0m\u001b[0;34m'JP_Sales'\u001b[0m\u001b[0;34m,\u001b[0m \u001b[0mascending\u001b[0m\u001b[0;34m=\u001b[0m\u001b[0;32mTrue\u001b[0m\u001b[0;34m)\u001b[0m\u001b[0;34m\u001b[0m\u001b[0;34m\u001b[0m\u001b[0m\n\u001b[0;32m----> 2\u001b[0;31m \u001b[0mprint\u001b[0m \u001b[0;34m(\u001b[0m\u001b[0;34m\"Least popular game in Japan is: \"\u001b[0m\u001b[0;34m,\u001b[0m \u001b[0meast_popular_in_japan\u001b[0m\u001b[0;34m.\u001b[0m\u001b[0miloc\u001b[0m\u001b[0;34m[\u001b[0m\u001b[0;36m0\u001b[0m\u001b[0;34m]\u001b[0m\u001b[0;34m[\u001b[0m\u001b[0;34m'Name'\u001b[0m\u001b[0;34m]\u001b[0m\u001b[0;34m)\u001b[0m\u001b[0;34m\u001b[0m\u001b[0;34m\u001b[0m\u001b[0m\n\u001b[0m",
      "\u001b[0;31mNameError\u001b[0m: name 'east_popular_in_japan' is not defined"
     ]
    }
   ],
   "source": [
    "least_popular_in_japan = df.sort_values('JP_Sales', ascending=True)\n",
    "print (\"Least popular game in Japan is: \", least_popular_in_japan.iloc[0]['Name'])"
   ]
  },
  {
   "cell_type": "code",
   "execution_count": null,
   "metadata": {},
   "outputs": [],
   "source": []
  }
 ],
 "metadata": {
  "kernelspec": {
   "display_name": "Python 3",
   "language": "python",
   "name": "python3"
  },
  "language_info": {
   "codemirror_mode": {
    "name": "ipython",
    "version": 3
   },
   "file_extension": ".py",
   "mimetype": "text/x-python",
   "name": "python",
   "nbconvert_exporter": "python",
   "pygments_lexer": "ipython3",
   "version": "3.8.6"
  }
 },
 "nbformat": 4,
 "nbformat_minor": 4
}
